{
 "cells": [
  {
   "cell_type": "code",
   "execution_count": 9,
   "metadata": {},
   "outputs": [],
   "source": [
    "import requests\n",
    "import json\n",
    "import matplotlib.pyplot as plt\n",
    "import numpy as np"
   ]
  },
  {
   "attachments": {},
   "cell_type": "markdown",
   "metadata": {},
   "source": [
    "# Fetching the data"
   ]
  },
  {
   "cell_type": "code",
   "execution_count": 10,
   "metadata": {},
   "outputs": [],
   "source": [
    "response = requests.get(\"https://datausa.io/api/data?drilldowns=Nation&measures=Population\")"
   ]
  },
  {
   "cell_type": "code",
   "execution_count": 11,
   "metadata": {},
   "outputs": [
    {
     "data": {
      "text/plain": [
       "[{'ID Nation': '01000US',\n",
       "  'Nation': 'United States',\n",
       "  'ID Year': 2020,\n",
       "  'Year': '2020',\n",
       "  'Population': 326569308,\n",
       "  'Slug Nation': 'united-states'},\n",
       " {'ID Nation': '01000US',\n",
       "  'Nation': 'United States',\n",
       "  'ID Year': 2019,\n",
       "  'Year': '2019',\n",
       "  'Population': 324697795,\n",
       "  'Slug Nation': 'united-states'},\n",
       " {'ID Nation': '01000US',\n",
       "  'Nation': 'United States',\n",
       "  'ID Year': 2018,\n",
       "  'Year': '2018',\n",
       "  'Population': 322903030,\n",
       "  'Slug Nation': 'united-states'},\n",
       " {'ID Nation': '01000US',\n",
       "  'Nation': 'United States',\n",
       "  'ID Year': 2017,\n",
       "  'Year': '2017',\n",
       "  'Population': 321004407,\n",
       "  'Slug Nation': 'united-states'},\n",
       " {'ID Nation': '01000US',\n",
       "  'Nation': 'United States',\n",
       "  'ID Year': 2016,\n",
       "  'Year': '2016',\n",
       "  'Population': 318558162,\n",
       "  'Slug Nation': 'united-states'},\n",
       " {'ID Nation': '01000US',\n",
       "  'Nation': 'United States',\n",
       "  'ID Year': 2015,\n",
       "  'Year': '2015',\n",
       "  'Population': 316515021,\n",
       "  'Slug Nation': 'united-states'},\n",
       " {'ID Nation': '01000US',\n",
       "  'Nation': 'United States',\n",
       "  'ID Year': 2014,\n",
       "  'Year': '2014',\n",
       "  'Population': 314107084,\n",
       "  'Slug Nation': 'united-states'},\n",
       " {'ID Nation': '01000US',\n",
       "  'Nation': 'United States',\n",
       "  'ID Year': 2013,\n",
       "  'Year': '2013',\n",
       "  'Population': 311536594,\n",
       "  'Slug Nation': 'united-states'}]"
      ]
     },
     "execution_count": 11,
     "metadata": {},
     "output_type": "execute_result"
    }
   ],
   "source": [
    "data = response.content\n",
    "data = json.loads(data)\n",
    "data = data[\"data\"]\n",
    "data"
   ]
  },
  {
   "attachments": {},
   "cell_type": "markdown",
   "metadata": {},
   "source": [
    "# Filtering the data"
   ]
  },
  {
   "attachments": {},
   "cell_type": "markdown",
   "metadata": {},
   "source": [
    "## Getting population per year"
   ]
  },
  {
   "cell_type": "code",
   "execution_count": 12,
   "metadata": {},
   "outputs": [
    {
     "data": {
      "text/plain": [
       "[('2020', 326569308),\n",
       " ('2019', 324697795),\n",
       " ('2018', 322903030),\n",
       " ('2017', 321004407),\n",
       " ('2016', 318558162),\n",
       " ('2015', 316515021),\n",
       " ('2014', 314107084),\n",
       " ('2013', 311536594)]"
      ]
     },
     "execution_count": 12,
     "metadata": {},
     "output_type": "execute_result"
    }
   ],
   "source": [
    "population_per_year = [(period[\"Year\"], period[\"Population\"]) for period in data]\n",
    "population_per_year"
   ]
  },
  {
   "attachments": {},
   "cell_type": "markdown",
   "metadata": {},
   "source": [
    "# Calculating growth rates"
   ]
  },
  {
   "cell_type": "code",
   "execution_count": 13,
   "metadata": {},
   "outputs": [
    {
     "data": {
      "text/plain": [
       "[('2019-2020', 1871513),\n",
       " ('2018-2019', 1794765),\n",
       " ('2017-2018', 1898623),\n",
       " ('2016-2017', 2446245),\n",
       " ('2015-2016', 2043141),\n",
       " ('2014-2015', 2407937),\n",
       " ('2013-2014', 2570490)]"
      ]
     },
     "execution_count": 13,
     "metadata": {},
     "output_type": "execute_result"
    }
   ],
   "source": [
    "population_growth_rates = []\n",
    "for i in range(len(population_per_year) - 1):\n",
    "    population_growth_rates.append((f\"{population_per_year[i + 1][0]}-{population_per_year[i][0]}\", population_per_year[i][1] - population_per_year[i + 1][1]))\n",
    "population_growth_rates"
   ]
  },
  {
   "attachments": {},
   "cell_type": "markdown",
   "metadata": {},
   "source": [
    "# Calculating growth rate [ min | average | max ]"
   ]
  },
  {
   "cell_type": "code",
   "execution_count": 16,
   "metadata": {},
   "outputs": [
    {
     "name": "stdout",
     "output_type": "stream",
     "text": [
      "Minimum: 1794765\n",
      "Average: 2147530.5714285714\n",
      "Maximum: 2147530.5714285714\n"
     ]
    }
   ],
   "source": [
    "growth_rate_minimum = min([x[1] for x in population_growth_rates])\n",
    "print(\"Minimum:\", growth_rate_minimum)\n",
    "growth_rate_average = sum([x[1] for x in population_growth_rates]) / len(population_growth_rates)\n",
    "print(\"Average:\", growth_rate_average)\n",
    "growth_rate_maximum = max([x[1] for x in population_growth_rates])\n",
    "print(\"Maximum:\", growth_rate_average)\n"
   ]
  },
  {
   "attachments": {},
   "cell_type": "markdown",
   "metadata": {},
   "source": [
    "# Data graph"
   ]
  },
  {
   "cell_type": "code",
   "execution_count": 15,
   "metadata": {},
   "outputs": [
    {
     "data": {
      "image/png": "[encoded data removed]",
      "text/plain": [
       "<Figure size 640x480 with 1 Axes>"
      ]
     },
     "metadata": {},
     "output_type": "display_data"
    }
   ],
   "source": [
    "x = [x[0] for x in population_growth_rates]\n",
    "x.reverse()\n",
    "y = [y[1] for y in population_growth_rates]\n",
    "y.reverse()\n",
    "\n",
    "fig, ax = plt.subplots()\n",
    "ax.plot(x, y)\n",
    "plt.show()"
   ]
  }
 ],
 "metadata": {
  "kernelspec": {
   "display_name": "venv",
   "language": "python",
   "name": "python3"
  },
  "language_info": {
   "codemirror_mode": {
    "name": "ipython",
    "version": 3
   },
   "file_extension": ".py",
   "mimetype": "text/x-python",
   "name": "python",
   "nbconvert_exporter": "python",
   "pygments_lexer": "ipython3",
   "version": "3.9.12"
  },
  "orig_nbformat": 4,
  "vscode": {
   "interpreter": {
    "hash": "7f57163a9bbe332d4e0b34e1c0ecc92d3e6cde1d4e53c5dc6c92526727590d84"
   }
  }
 },
 "nbformat": 4,
 "nbformat_minor": 2
}
